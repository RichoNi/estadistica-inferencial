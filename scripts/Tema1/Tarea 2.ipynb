{
 "cells": [
  {
   "cell_type": "markdown",
   "id": "251c7b04",
   "metadata": {},
   "source": [
    "# Tarea 2\n",
    "## Repaso generla de python"
   ]
  },
  {
   "cell_type": "markdown",
   "id": "38aceb83",
   "metadata": {},
   "source": [
    "### Pregunta 1\n",
    "\n",
    "Escribe una secuencia de instrucciones que permitan leer un número real por pantalla y que muestre si el número es positivo o no "
   ]
  },
  {
   "cell_type": "code",
   "execution_count": 64,
   "id": "e7897f6b",
   "metadata": {},
   "outputs": [
    {
     "name": "stdout",
     "output_type": "stream",
     "text": [
      "Escribe un número: 0\n",
      "El número 0.0 no es positivo ni negativo.\n"
     ]
    }
   ],
   "source": [
    "# Solución pregunta 1\n",
    "num = float(input(\"Escribe un número: \"))\n",
    "\n",
    "def espositivo(num):\n",
    "    if num < 0:\n",
    "        print(\"El número \"+ str(num) + \" es negativo\")\n",
    "    elif num == 0:\n",
    "        print(\"El número \" + str(num) + \" no es positivo ni negativo.\")\n",
    "    else:\n",
    "        print(\"El número \"+ str(num) + \" es positivo\")\n",
    "\n",
    "espositivo(num)"
   ]
  },
  {
   "cell_type": "markdown",
   "id": "2b4e2a0a",
   "metadata": {},
   "source": [
    "### Pregunta 2\n",
    "\n",
    "Escribe una secuencia de instrucciones que permitan leer un número real por pantalla y que muestre si el número está en el rango entre -5 y 5, ambos incluidos."
   ]
  },
  {
   "cell_type": "code",
   "execution_count": 15,
   "id": "036e3add",
   "metadata": {},
   "outputs": [
    {
     "name": "stdout",
     "output_type": "stream",
     "text": [
      "Escribe un número: -5.1\n",
      "El número -5.1 está fuera del rango [-5,5]\n"
     ]
    }
   ],
   "source": [
    "# Solución pregunta 2\n",
    "num = float(input(\"Escribe un número: \"))\n",
    "\n",
    "def en_rango(num):\n",
    "    if num < -5 or num > 5:\n",
    "        print(\"El número \" + str(num) + \" está fuera del rango [-5,5]\")\n",
    "    else:\n",
    "        print(\"El número \" + str(num) + \" está dentro del rango [-5,5]\")\n",
    "\n",
    "en_rango(num)"
   ]
  },
  {
   "cell_type": "code",
   "execution_count": 25,
   "id": "d4ffa04a",
   "metadata": {},
   "outputs": [
    {
     "name": "stdout",
     "output_type": "stream",
     "text": [
      "Bienvenid@, se pedirán las cordenadas \"x\" y \"y\" de un punto (x,y) para saber a que cuadrante pertenece.\n",
      "Escribe la coordena x del punto: 6\n",
      "Escribe la coordena y del punto: 0\n",
      "El punto (6.0,0.0) se encuentra sobre el eje horizontal.\n"
     ]
    }
   ],
   "source": [
    "# Solución pregunta  3\"\n",
    "\n",
    "print('Bienvenido, se pedirán las coordenadas \"x\" y \"y\" de un punto (x,y) para saber a que cuadrante pertenece.')\n",
    "\n",
    "x = float(input(\"Escribe la coordena x del punto: \"))\n",
    "y = float(input(\"Escribe la coordena y del punto: \"))\n",
    "\n",
    "def cuadrante(x,y):\n",
    "    if x > 0 and y > 0:\n",
    "        print(\"El punto (\" + str(x) + \",\" + str(y) + \") se encuentra en el cuadrante I.\")\n",
    "    elif x < 0 and y > 0:\n",
    "        print(\"El punto (\" + str(x) + \",\" + str(y) + \") se encuentra en el cuadrante II.\")\n",
    "    elif x < 0 and y < 0:\n",
    "        print(\"El punto (\" + str(x) + \",\" + str(y) + \") se encuentra en el cuadrante III.\")\n",
    "    elif x > 0 and y < 0:\n",
    "        print(\"El punto (\" + str(x) + \",\" + str(y) + \") se encuentra en el cuadrante IV.\")\n",
    "    elif x == 0:\n",
    "        if y == 0:\n",
    "            print(\"El punto (\" + str(x) + \",\" + str(y) + \") es el origen de las coordenadas.\")\n",
    "        else:\n",
    "            print(\"El punto (\" + str(x) + \",\" + str(y) + \") se encuentra sobre el eje vertical.\")\n",
    "    elif x != 0 and y == 0:\n",
    "        print(\"El punto (\" + str(x) + \",\" + str(y) + \") se encuentra sobre el eje horizontal.\")\n",
    "    else:\n",
    "        print(\"Ingresa coordenadas validas para un punto\")\n",
    "\n",
    "cuadrante(x,y)"
   ]
  },
  {
   "cell_type": "code",
   "execution_count": 34,
   "id": "68c2b16d",
   "metadata": {},
   "outputs": [
    {
     "name": "stdout",
     "output_type": "stream",
     "text": [
      "Bienvenido al programa que muestra el cociente de la división entera y\n",
      "el resto de la división entera entre dos números enteros.\n",
      "\n",
      "Escribe un número entero: 56\n",
      "Escribe otro número entero: 45\n",
      "El cociente de la división entera es: 1\n",
      "El resto de la división entera es: 11\n"
     ]
    },
    {
     "data": {
      "text/plain": [
       "(1, 11)"
      ]
     },
     "execution_count": 34,
     "metadata": {},
     "output_type": "execute_result"
    }
   ],
   "source": [
    "# Solución pregunta 4\n",
    "print(\"Bienvenido al programa que muestra el cociente de la división entera y\")\n",
    "print(\"el resto de la división entera entre dos números enteros.\\n\")\n",
    "num1 = int(input(\"Escribe un número entero: \"))\n",
    "num2 = int(input(\"Escribe otro número entero: \"))\n",
    "\n",
    "def div_entera(num1, num2):\n",
    "    cociente = num1 // num2\n",
    "    resto = num1 % num2\n",
    "    print(\"El cociente de la división entera es: \" + str(cociente))\n",
    "    print(\"El resto de la división entera es: \" + str(resto))\n",
    "    return (cociente, resto)\n",
    "\n",
    "div_entera(num1, num2)"
   ]
  },
  {
   "cell_type": "code",
   "execution_count": 50,
   "id": "a60ee59d",
   "metadata": {},
   "outputs": [
    {
     "name": "stdout",
     "output_type": "stream",
     "text": [
      "Bienvenido al programa que determina si un número entero es un cuadrado perfecto.\n",
      "\n",
      "Ingresa un numero entero: 121\n",
      "El número 121 es un número cuadrado perfecto\n"
     ]
    },
    {
     "data": {
      "text/plain": [
       "11.0"
      ]
     },
     "execution_count": 50,
     "metadata": {},
     "output_type": "execute_result"
    }
   ],
   "source": [
    "# Solución pregunta 5\n",
    "import math\n",
    "print(\"Bienvenido al programa que determina si un número entero es un cuadrado perfecto.\\n\")\n",
    "num = int(input(\"Ingresa un número entero: \"))\n",
    "\n",
    "def cuadrado_perfecto(num):\n",
    "    if num <= 0:\n",
    "        print(\"El número \" + str(num) + \" no es un número cuadrado perfecto\")\n",
    "    elif (num % math.sqrt(num)) == 0:\n",
    "        print(\"El número \" + str(num) + \" es un número cuadrado perfecto\")\n",
    "        return math.sqrt(num)\n",
    "    else:\n",
    "        print(\"El número \" + str(num) + \" no es un número cuadrado perfecto\")\n",
    "\n",
    "cuadrado_perfecto(num)\n"
   ]
  },
  {
   "cell_type": "code",
   "execution_count": 58,
   "id": "fd5b75a9",
   "metadata": {},
   "outputs": [
    {
     "name": "stdout",
     "output_type": "stream",
     "text": [
      "Bienvenido al programa que nos indica si un año introducido, corresponde a un año biciesto.\n",
      "\n",
      "Escribe el año: 1992\n",
      "El año 1992 es biciesto.\n"
     ]
    }
   ],
   "source": [
    "# Solución pregunta 6\n",
    "print(\"Bienvenido al programa que nos indica si un año introducido, corresponde a un año biciesto.\\n\")\n",
    "\n",
    "anio = int(input(\"Escribe el año: \"))\n",
    "\n",
    "def es_biciesto(anio):\n",
    "    if anio <= 0:\n",
    "        print(\"Año no valido\")\n",
    "    else:\n",
    "        if (anio % 4 == 0) and (anio % 100 != 0):\n",
    "            print(\"El año \" + str(anio) + \" es biciesto.\")\n",
    "        elif (anio % 4 == 0) and (anio % 100 == 0) and (anio % 400 == 0):\n",
    "            print(\"El año \" + str(anio) + \" es biciesto.\")\n",
    "        else:\n",
    "            print(\"El año \" + str(anio) + \" no es biciesto.\")\n",
    "\n",
    "es_biciesto(anio)"
   ]
  },
  {
   "cell_type": "code",
   "execution_count": 63,
   "id": "f848bb92",
   "metadata": {},
   "outputs": [
    {
     "name": "stdout",
     "output_type": "stream",
     "text": [
      "Bienvenido al programa que nos ayudara a saber que color es una casilla del tablero de ajedrez según sus cordenadas\n",
      "Escribe la letra de la casilla, esta debe estar entre la \"a\" y la \"h\": b\n",
      "Escribe el número de la casilla, este debe estar entre el 1 y el 8: 8\n",
      "El color de la casilla (b,8) es negra\n"
     ]
    }
   ],
   "source": [
    "# Solución pregunta 7\n",
    "\n",
    "print(\"Bienvenido al programa que nos ayudara a saber que color es una casilla del tablero de ajedrez según sus coordenadas\")\n",
    "\n",
    "letra = input('Escribe la letra de la casilla, esta debe estar entre la \"a\" y la \"h\": ')\n",
    "numero = int(input(\"Escribe el número de la casilla, este debe estar entre el 1 y el 8: \"))\n",
    "\n",
    "def casilla_color(letra, numero):\n",
    "    if letra == \"a\" or letra == \"c\" or letra == \"e\" or letra == \"g\":\n",
    "        if numero % 2 != 0:\n",
    "            print(\"El color de la casilla (\" + letra + \",\" + str(numero) +\") es negra.\")\n",
    "        else:\n",
    "            print(\"El color de la casilla (\" + letra + \",\" + str(numero) +\") es blanca.\")\n",
    "    else:\n",
    "        if numero % 2 == 0:\n",
    "            print(\"El color de la casilla (\" + letra + \",\" + str(numero) +\") es negra\")\n",
    "        else:\n",
    "            print(\"El color de la casilla (\" + letra + \",\" + str(numero) +\") es blanca\")\n",
    "\n",
    "\n",
    "casilla_color(letra,numero)\n"
   ]
  },
  {
   "cell_type": "code",
   "execution_count": null,
   "id": "31dbe5e5",
   "metadata": {},
   "outputs": [],
   "source": []
  },
  {
   "cell_type": "code",
   "execution_count": null,
   "id": "65889193",
   "metadata": {},
   "outputs": [],
   "source": []
  },
  {
   "cell_type": "code",
   "execution_count": null,
   "id": "0e0d1b3d",
   "metadata": {},
   "outputs": [],
   "source": []
  },
  {
   "cell_type": "code",
   "execution_count": null,
   "id": "e41c495b",
   "metadata": {},
   "outputs": [],
   "source": []
  },
  {
   "cell_type": "code",
   "execution_count": null,
   "id": "da570b75",
   "metadata": {},
   "outputs": [],
   "source": []
  },
  {
   "cell_type": "code",
   "execution_count": null,
   "id": "19a3c4b7",
   "metadata": {},
   "outputs": [],
   "source": []
  },
  {
   "cell_type": "code",
   "execution_count": null,
   "id": "3add64a5",
   "metadata": {},
   "outputs": [],
   "source": []
  }
 ],
 "metadata": {
  "kernelspec": {
   "display_name": "Python 3 (ipykernel)",
   "language": "python",
   "name": "python3"
  },
  "language_info": {
   "codemirror_mode": {
    "name": "ipython",
    "version": 3
   },
   "file_extension": ".py",
   "mimetype": "text/x-python",
   "name": "python",
   "nbconvert_exporter": "python",
   "pygments_lexer": "ipython3",
   "version": "3.11.9"
  }
 },
 "nbformat": 4,
 "nbformat_minor": 5
}
