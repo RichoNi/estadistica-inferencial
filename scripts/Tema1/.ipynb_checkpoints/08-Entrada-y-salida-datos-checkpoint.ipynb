{
 "cells": [
  {
   "cell_type": "markdown",
   "id": "fb14b4ff",
   "metadata": {},
   "source": [
    "# Entrada y salida de datos"
   ]
  },
  {
   "cell_type": "code",
   "execution_count": 1,
   "id": "007cd534",
   "metadata": {},
   "outputs": [
    {
     "name": "stdout",
     "output_type": "stream",
     "text": [
      "Hola, me llamo Ricardo Nieto\n"
     ]
    }
   ],
   "source": [
    "print(\"Hola, me llamo Ricardo Nieto\")"
   ]
  },
  {
   "cell_type": "code",
   "execution_count": 2,
   "id": "824d09a9",
   "metadata": {},
   "outputs": [
    {
     "name": "stdout",
     "output_type": "stream",
     "text": [
      "7\n"
     ]
    }
   ],
   "source": [
    "x = 7 \n",
    "print(x)"
   ]
  },
  {
   "cell_type": "code",
   "execution_count": 3,
   "id": "45259ccd",
   "metadata": {},
   "outputs": [
    {
     "name": "stdout",
     "output_type": "stream",
     "text": [
      "El valor de la variable x es: 7\n"
     ]
    }
   ],
   "source": [
    "print(\"El valor de la variable x es: \" + str(x))"
   ]
  },
  {
   "cell_type": "code",
   "execution_count": 4,
   "id": "e8caa83b",
   "metadata": {},
   "outputs": [
    {
     "name": "stdout",
     "output_type": "stream",
     "text": [
      "Introduce aquí tu nombre: Ricardo Nieto\n"
     ]
    }
   ],
   "source": [
    "texto = input(\"Introduce aquí tu nombre: \")"
   ]
  },
  {
   "cell_type": "code",
   "execution_count": 6,
   "id": "8b1cf0f1",
   "metadata": {},
   "outputs": [
    {
     "data": {
      "text/plain": [
       "'Ricardo Nieto'"
      ]
     },
     "execution_count": 6,
     "metadata": {},
     "output_type": "execute_result"
    }
   ],
   "source": [
    "texto"
   ]
  },
  {
   "cell_type": "code",
   "execution_count": 7,
   "id": "c537017c",
   "metadata": {},
   "outputs": [
    {
     "name": "stdout",
     "output_type": "stream",
     "text": [
      "Introduce aquí tu edad: 34\n"
     ]
    }
   ],
   "source": [
    "numero = int(input(\"Introduce aquí tu edad: \"))"
   ]
  },
  {
   "cell_type": "code",
   "execution_count": 8,
   "id": "83aa52d8",
   "metadata": {},
   "outputs": [
    {
     "data": {
      "text/plain": [
       "34"
      ]
     },
     "execution_count": 8,
     "metadata": {},
     "output_type": "execute_result"
    }
   ],
   "source": [
    "numero"
   ]
  },
  {
   "cell_type": "code",
   "execution_count": 9,
   "id": "739ba548",
   "metadata": {},
   "outputs": [
    {
     "data": {
      "text/plain": [
       "73"
      ]
     },
     "execution_count": 9,
     "metadata": {},
     "output_type": "execute_result"
    }
   ],
   "source": [
    "2*numero + 5"
   ]
  },
  {
   "cell_type": "markdown",
   "id": "b2fe405d",
   "metadata": {},
   "source": [
    "## Operadores de descisión"
   ]
  },
  {
   "cell_type": "markdown",
   "id": "8444b651",
   "metadata": {},
   "source": [
    "sí condición booleana:\n",
    "    código que se ejecuta si la condición es verdad\n",
    "    ..\n",
    "    ..\n",
    "    ..\n",
    "siguiente código que se ejecuta"
   ]
  },
  {
   "cell_type": "code",
   "execution_count": 15,
   "id": "d0e10b80",
   "metadata": {},
   "outputs": [
    {
     "name": "stdout",
     "output_type": "stream",
     "text": [
      "Escribe un número: 15\n"
     ]
    }
   ],
   "source": [
    "x = int(input(\"Escribe un número: \"))"
   ]
  },
  {
   "cell_type": "code",
   "execution_count": 11,
   "id": "2f284696",
   "metadata": {},
   "outputs": [
    {
     "name": "stdout",
     "output_type": "stream",
     "text": [
      "Has escrito el número 5\n"
     ]
    }
   ],
   "source": [
    "if x == 5:\n",
    "    print(\"Has escrito el número 5\")"
   ]
  },
  {
   "cell_type": "code",
   "execution_count": 16,
   "id": "1bbfdff8",
   "metadata": {},
   "outputs": [
    {
     "name": "stdout",
     "output_type": "stream",
     "text": [
      "El número que has escrito es mayor que 10\n"
     ]
    }
   ],
   "source": [
    "if x < 5:\n",
    "    print(\"Has escrito un número menor que 5\")\n",
    "elif x < 10:\n",
    "    print(\"Has escrito un número menor que 10 y mayor o igual a 5\")\n",
    "else:\n",
    "    print(\"El número que has escrito es mayor que 10\")"
   ]
  },
  {
   "cell_type": "code",
   "execution_count": 17,
   "id": "f3e499a8",
   "metadata": {},
   "outputs": [
    {
     "name": "stdout",
     "output_type": "stream",
     "text": [
      "Escribe un número: 6\n",
      "Has escrito un número en el rango de [0,10]\n"
     ]
    }
   ],
   "source": [
    "x = int(input(\"Escribe un número: \"))\n",
    "if x>0 and x<10:\n",
    "    print(\"Has escrito un número en el rango de [0,10]\")"
   ]
  },
  {
   "cell_type": "code",
   "execution_count": 18,
   "id": "3feb7a3a",
   "metadata": {},
   "outputs": [
    {
     "name": "stdout",
     "output_type": "stream",
     "text": [
      "Escribe un número: 15\n",
      "Has escrito un número fuera del rango de [0,10]\n"
     ]
    }
   ],
   "source": [
    "x = int(input(\"Escribe un número: \"))\n",
    "if x<0 or x>10:\n",
    "    print(\"Has escrito un número fuera del rango de [0,10]\")"
   ]
  },
  {
   "cell_type": "code",
   "execution_count": null,
   "id": "ed188b6e",
   "metadata": {},
   "outputs": [],
   "source": []
  },
  {
   "cell_type": "code",
   "execution_count": null,
   "id": "9f8b0ddb",
   "metadata": {},
   "outputs": [],
   "source": []
  },
  {
   "cell_type": "code",
   "execution_count": null,
   "id": "7d6ab92d",
   "metadata": {},
   "outputs": [],
   "source": []
  },
  {
   "cell_type": "code",
   "execution_count": null,
   "id": "71b871cf",
   "metadata": {},
   "outputs": [],
   "source": []
  },
  {
   "cell_type": "code",
   "execution_count": null,
   "id": "1a2282df",
   "metadata": {},
   "outputs": [],
   "source": []
  },
  {
   "cell_type": "code",
   "execution_count": null,
   "id": "ff8b2e9a",
   "metadata": {},
   "outputs": [],
   "source": []
  }
 ],
 "metadata": {
  "kernelspec": {
   "display_name": "Python 3 (ipykernel)",
   "language": "python",
   "name": "python3"
  },
  "language_info": {
   "codemirror_mode": {
    "name": "ipython",
    "version": 3
   },
   "file_extension": ".py",
   "mimetype": "text/x-python",
   "name": "python",
   "nbconvert_exporter": "python",
   "pygments_lexer": "ipython3",
   "version": "3.11.9"
  }
 },
 "nbformat": 4,
 "nbformat_minor": 5
}
